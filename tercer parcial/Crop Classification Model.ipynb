{
 "cells": [
  {
   "cell_type": "markdown",
   "metadata": {},
   "source": [
    "Data Preparation  \n",
    "Split the data into training and testing sets using an 80-20 ratio.  \n",
    "Scale the numerical features to ensure the algorithms perform effectively.  "
   ]
  },
  {
   "cell_type": "code",
   "execution_count": 3,
   "metadata": {},
   "outputs": [],
   "source": [
    "import numpy as np\n",
    "import pandas as pd\n",
    "from sklearn.model_selection import train_test_split\n",
    "\n",
    "soil_data = pd.read_csv('clean_data_soil_crops.csv')\n"
   ]
  },
  {
   "cell_type": "code",
   "execution_count": 7,
   "metadata": {},
   "outputs": [],
   "source": [
    "#el objetivo es lo que se va a clasificar gracias a las características\n",
    "X = soil_data[['pH', 'Moisture', 'Nitrogen', 'SoilType']]  # Características\n",
    "y = soil_data['Crop']  # Objetivo "
   ]
  },
  {
   "cell_type": "code",
   "execution_count": 8,
   "metadata": {},
   "outputs": [],
   "source": [
    "#convertir variables categóricas en variables binarias (hot encoding)\n",
    "#Los modelos de machine learning generalmente no pueden trabajar directamente con variables categóricas de tipo texto\n",
    "X = pd.get_dummies(X, columns=['SoilType'], drop_first=True)\n"
   ]
  },
  {
   "cell_type": "code",
   "execution_count": null,
   "metadata": {},
   "outputs": [],
   "source": [
    "# Dividir los datos en conjuntos de entrenamiento y prueba (80-20)\n",
    "#el random state es una semilla de numeros aleatorios\n",
    "X_train, X_test, y_train, y_test = train_test_split(X, y, test_size=0.2, random_state=9)\n"
   ]
  }
 ],
 "metadata": {
  "kernelspec": {
   "display_name": "Python 3",
   "language": "python",
   "name": "python3"
  },
  "language_info": {
   "codemirror_mode": {
    "name": "ipython",
    "version": 3
   },
   "file_extension": ".py",
   "mimetype": "text/x-python",
   "name": "python",
   "nbconvert_exporter": "python",
   "pygments_lexer": "ipython3",
   "version": "3.12.2"
  }
 },
 "nbformat": 4,
 "nbformat_minor": 2
}
