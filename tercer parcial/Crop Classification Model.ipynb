{
 "cells": [
  {
   "cell_type": "markdown",
   "metadata": {},
   "source": [
    "Data Preparation  \n",
    "Split the data into training and testing sets using an 80-20 ratio.  \n",
    "Scale the numerical features to ensure the algorithms perform effectively.  "
   ]
  },
  {
   "cell_type": "code",
   "execution_count": 2,
   "metadata": {},
   "outputs": [],
   "source": [
    "import numpy as np\n",
    "import pandas as pd\n",
    "from sklearn.model_selection import train_test_split\n",
    "from sklearn.preprocessing import StandardScaler\n",
    "\n",
    "soil_data = pd.read_csv('clean_data_soil_crops.csv')\n"
   ]
  },
  {
   "cell_type": "code",
   "execution_count": 3,
   "metadata": {},
   "outputs": [],
   "source": [
    "#el objetivo es lo que se va a clasificar gracias a las características\n",
    "X = soil_data[['pH', 'Moisture', 'Nitrogen', 'SoilType']]  # Características\n",
    "y = soil_data['Crop']  # Objetivo "
   ]
  },
  {
   "cell_type": "code",
   "execution_count": 4,
   "metadata": {},
   "outputs": [],
   "source": [
    "#convertir variables categóricas en variables binarias (hot encoding)\n",
    "#Los modelos de machine learning generalmente no pueden trabajar directamente con variables categóricas de tipo texto\n",
    "X = pd.get_dummies(X, columns=['SoilType'], drop_first=True)\n"
   ]
  },
  {
   "cell_type": "code",
   "execution_count": 5,
   "metadata": {},
   "outputs": [],
   "source": [
    "# Dividir los datos en conjuntos de entrenamiento y prueba (80-20)\n",
    "#el random state es una semilla de numeros aleatorios\n",
    "X_train, X_test, y_train, y_test = train_test_split(X, y, test_size=0.2, random_state=9)\n"
   ]
  },
  {
   "cell_type": "code",
   "execution_count": 7,
   "metadata": {},
   "outputs": [],
   "source": [
    "#escalar las caracteristicas\n",
    "#estandariza las características numéricas eliminando la media y dividiendo entre la desviación estándar.\n",
    "scaler = StandardScaler()\n",
    "X_train_scaled = scaler.fit_transform(X_train[['pH', 'Moisture', 'Nitrogen']])\n",
    "X_test_scaled = scaler.transform(X_test[['pH', 'Moisture', 'Nitrogen']])"
   ]
  },
  {
   "cell_type": "code",
   "execution_count": 8,
   "metadata": {},
   "outputs": [],
   "source": [
    "# Reemplazar las columnas escaladas en los conjuntos de entrenamiento y prueba\n",
    "X_train[['pH', 'Moisture', 'Nitrogen']] = X_train_scaled\n",
    "X_test[['pH', 'Moisture', 'Nitrogen']] = X_test_scaled"
   ]
  },
  {
   "cell_type": "markdown",
   "metadata": {},
   "source": [
    "## Implementcaión del modelo\n",
    "\n",
    "se escogió el algoritmo de bosques aleatorios\n"
   ]
  },
  {
   "cell_type": "code",
   "execution_count": 30,
   "metadata": {},
   "outputs": [
    {
     "data": {
      "text/plain": [
       "0.9743589743589743"
      ]
     },
     "execution_count": 30,
     "metadata": {},
     "output_type": "execute_result"
    }
   ],
   "source": [
    "from sklearn.ensemble import RandomForestClassifier\n",
    "from sklearn.metrics import confusion_matrix, classification_report, accuracy_score\n",
    "#parametros\n",
    "modelo = RandomForestClassifier(n_estimators=100, max_depth=5, random_state=9)\n",
    "\n",
    "#entrena el modelo (model) usando los datos de entrenamiento (X_train_scaled y y_train)\n",
    "modelo.fit(X_train_scaled, y_train)\n",
    "\n",
    "accuracy = modelo.score(X_test_scaled, y_test)\n",
    "accuracy\n"
   ]
  },
  {
   "cell_type": "code",
   "execution_count": 31,
   "metadata": {},
   "outputs": [
    {
     "name": "stdout",
     "output_type": "stream",
     "text": [
      "Matriz de confusión:\n",
      "[[38  0]\n",
      " [ 1  0]]\n",
      "Reporte de clasificación:\n",
      "              precision    recall  f1-score   support\n",
      "\n",
      "       Maize       0.97      1.00      0.99        38\n",
      "        Rice       1.00      0.00      0.00         1\n",
      "\n",
      "    accuracy                           0.97        39\n",
      "   macro avg       0.99      0.50      0.49        39\n",
      "weighted avg       0.98      0.97      0.96        39\n",
      "\n"
     ]
    }
   ],
   "source": [
    "# Predicciones y métricas\n",
    "y_pred = modelo.predict(X_test_scaled)\n",
    "print(\"Matriz de confusión:\")\n",
    "print(confusion_matrix(y_test, y_pred))\n",
    "print(\"Reporte de clasificación:\")\n",
    "print(classification_report(y_test, y_pred, zero_division=1))\n"
   ]
  },
  {
   "cell_type": "code",
   "execution_count": 32,
   "metadata": {},
   "outputs": [
    {
     "name": "stdout",
     "output_type": "stream",
     "text": [
      "El modelo predice que el cultivo recomendado es: Maize\n"
     ]
    },
    {
     "name": "stderr",
     "output_type": "stream",
     "text": [
      "c:\\Users\\Alejando\\AppData\\Local\\Programs\\Python\\Python312\\Lib\\site-packages\\sklearn\\base.py:493: UserWarning: X does not have valid feature names, but StandardScaler was fitted with feature names\n",
      "  warnings.warn(\n"
     ]
    }
   ],
   "source": [
    "nuevos_datos = [[4.5, 88, 8]]  # PH, Moisture, Nitrogen\n",
    "nuevos_datos_scaled = scaler.transform(nuevos_datos)\n",
    "prediccion = modelo.predict(nuevos_datos_scaled)\n",
    "print(\"El modelo predice que el cultivo recomendado es:\", prediccion[0])"
   ]
  },
  {
   "cell_type": "markdown",
   "metadata": {},
   "source": [
    "el modelo no parece reaccionar bien con el algoritmo de entrenamiento, usaremos KNN"
   ]
  },
  {
   "cell_type": "code",
   "execution_count": 66,
   "metadata": {},
   "outputs": [
    {
     "name": "stdout",
     "output_type": "stream",
     "text": [
      "Exactitud del modelo KNN: 97.4359%\n"
     ]
    }
   ],
   "source": [
    "from sklearn.neighbors import KNeighborsClassifier\n",
    "knn = KNeighborsClassifier(n_neighbors=6)#numero de vecinos \n",
    "\n",
    "# Entrenar el modelo con el conjunto de entrenamiento\n",
    "knn.fit(X_train_scaled, y_train)\n",
    "\n",
    "# Realizar predicciones en el conjunto de prueba\n",
    "y_pred = knn.predict(X_test_scaled)\n",
    "\n",
    "accuracy = accuracy_score(y_test, y_pred)\n",
    "print(f\"Exactitud del modelo KNN: {accuracy * 100:.4f}%\")\n"
   ]
  },
  {
   "cell_type": "code",
   "execution_count": 67,
   "metadata": {},
   "outputs": [
    {
     "name": "stdout",
     "output_type": "stream",
     "text": [
      "Matriz de confusión:\n",
      "[[38  0]\n",
      " [ 1  0]]\n"
     ]
    }
   ],
   "source": [
    "conf_matrix = confusion_matrix(y_test, y_pred)\n",
    "print(\"Matriz de confusión:\")\n",
    "print(conf_matrix)"
   ]
  },
  {
   "cell_type": "code",
   "execution_count": 68,
   "metadata": {},
   "outputs": [
    {
     "name": "stdout",
     "output_type": "stream",
     "text": [
      "Mejor valor de n_neighbors: 4\n"
     ]
    }
   ],
   "source": [
    "from sklearn.model_selection import GridSearchCV\n",
    "\n",
    "# Definir los parámetros a probar\n",
    "param_grid = {'n_neighbors': range(1, 21)}  # Probar valores entre 1 y 20\n",
    "\n",
    "# Realizar la búsqueda en grid\n",
    "grid_search = GridSearchCV(KNeighborsClassifier(), param_grid, cv=5)  # 5-fold cross-validation\n",
    "grid_search.fit(X_train_scaled, y_train)\n",
    "\n",
    "# Mostrar el mejor valor de n_neighbors\n",
    "print(f\"Mejor valor de n_neighbors: {grid_search.best_params_['n_neighbors']}\")\n",
    "\n"
   ]
  },
  {
   "cell_type": "code",
   "execution_count": 72,
   "metadata": {},
   "outputs": [
    {
     "name": "stdout",
     "output_type": "stream",
     "text": [
      "Predicción para los nuevos datos: Maize\n"
     ]
    },
    {
     "name": "stderr",
     "output_type": "stream",
     "text": [
      "c:\\Users\\Alejando\\AppData\\Local\\Programs\\Python\\Python312\\Lib\\site-packages\\sklearn\\base.py:493: UserWarning: X does not have valid feature names, but StandardScaler was fitted with feature names\n",
      "  warnings.warn(\n"
     ]
    }
   ],
   "source": [
    "# Entrenar el modelo con todos los datos (X_scaled y y)\n",
    "knn_final = KNeighborsClassifier(n_neighbors=grid_search.best_params_['n_neighbors'])  # Mejor valor de n_neighbors\n",
    "knn_final.fit(X_train_scaled, y_train)\n",
    "\n",
    "# Hacer predicciones en nuevos datos (por ejemplo, una nueva muestra)\n",
    "new_data = [[6.5, 80, 2.8]]  # Ejemplo de nuevos datos  PH, Moisture, Nitrogen\n",
    "new_data_scaled = scaler.transform(new_data)  # Asegúrate de escalar los nuevos datos también\n",
    "prediction = knn_final.predict(new_data_scaled)\n",
    "\n",
    "print(f\"Predicción para los nuevos datos: {prediction[0]}\")"
   ]
  },
  {
   "cell_type": "markdown",
   "metadata": {},
   "source": [
    "probaremos mejor con svc"
   ]
  },
  {
   "cell_type": "code",
   "execution_count": 90,
   "metadata": {},
   "outputs": [
    {
     "name": "stdout",
     "output_type": "stream",
     "text": [
      "Predicción para los nuevos datos: Maize\n"
     ]
    },
    {
     "name": "stderr",
     "output_type": "stream",
     "text": [
      "c:\\Users\\Alejando\\AppData\\Local\\Programs\\Python\\Python312\\Lib\\site-packages\\sklearn\\base.py:493: UserWarning: X does not have valid feature names, but StandardScaler was fitted with feature names\n",
      "  warnings.warn(\n"
     ]
    }
   ],
   "source": [
    "from sklearn.svm import SVC\n",
    "\n",
    "# Train SVM model\n",
    "svm = SVC(kernel='linear')\n",
    "svm.fit(X_train_scaled, y_train)\n",
    "\n",
    "new_data = [[4.5, 85, 8.5]]  # Ejemplo de nuevos datos  PH, Moisture, Nitrogen\n",
    "new_data_scaled = scaler.transform(new_data)  # Asegúrate de escalar los nuevos datos también\n",
    "\n",
    "# Predict on test set\n",
    "y_pred_svm = svm.predict(X_test_scaled)\n",
    "\n",
    "print(f\"Predicción para los nuevos datos: {prediction[0]}\")\n",
    "\n",
    "\n"
   ]
  },
  {
   "cell_type": "markdown",
   "metadata": {},
   "source": [
    "nuestro modelo de datos esta muy influenciado por el amplio rango del maiz en el dataset, afectando nuestro modelo ya que predice en su mayoria maiz "
   ]
  }
 ],
 "metadata": {
  "kernelspec": {
   "display_name": "Python 3",
   "language": "python",
   "name": "python3"
  },
  "language_info": {
   "codemirror_mode": {
    "name": "ipython",
    "version": 3
   },
   "file_extension": ".py",
   "mimetype": "text/x-python",
   "name": "python",
   "nbconvert_exporter": "python",
   "pygments_lexer": "ipython3",
   "version": "3.12.2"
  }
 },
 "nbformat": 4,
 "nbformat_minor": 2
}
