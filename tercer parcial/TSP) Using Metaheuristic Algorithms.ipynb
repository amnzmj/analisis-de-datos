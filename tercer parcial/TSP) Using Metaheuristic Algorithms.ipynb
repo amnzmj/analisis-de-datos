{
 "cells": [
  {
   "cell_type": "markdown",
   "metadata": {},
   "source": [
    "TSP Using Metaheuristic Algorithms"
   ]
  },
  {
   "cell_type": "markdown",
   "metadata": {},
   "source": [
    "Problem Description  \n",
    "The Traveling Salesperson Problem (TSP) is a classic combinatorial optimization problem. It is formulated as follows:  \n",
    "\n",
    "Given a set of cities and the distances between each pair of them, the goal is to find the shortest route that visits   each city exactly once and returns to the starting point.  \n",
    " \n",
    "TSP is an NP-hard problem, meaning there is no efficient exact algorithm to solve it for large numbers of cities.   However, metaheuristic algorithms are powerful strategies that can approximate solutions in a reasonable time. \n",
    "\n",
    "Tasks  \n",
    "Problem Formulation  \n",
    "Select a TSP instance from the TSPLIB. We will use the berlin52.tsp instance (a set of 52 cities in Berlin).  \n",
    "\n",
    "Download the instance from the following link:   \n",
    "\n",
    "berlin52.tsp  "
   ]
  },
  {
   "cell_type": "code",
   "execution_count": 47,
   "metadata": {},
   "outputs": [
    {
     "name": "stdout",
     "output_type": "stream",
     "text": [
      "Best Tour: [29, 20, 41, 1, 6, 16, 2, 31, 5, 3, 24, 50, 11, 27, 26, 10, 51, 13, 12, 25, 46, 28, 19, 49, 15, 43, 45, 47, 37, 39, 38, 33, 36, 23, 4, 14, 42, 32, 9, 8, 7, 40, 18, 44, 48, 35, 34, 0, 21, 17, 30, 22]\n",
      "Best Cost: 8995\n"
     ]
    }
   ],
   "source": [
    "import random\n",
    "import math\n",
    "import matplotlib.pyplot as plt\n",
    "import tsplib95\n",
    "import numpy as np\n",
    "\n",
    "# Load berlin52.tsp using tsplib95\n",
    "def load_tsp(filename):\n",
    "    problem = tsplib95.load(filename)\n",
    "    nodes = list(problem.get_nodes())\n",
    "    distance_matrix = np.array([[problem.get_weight(i, j) for j in nodes] for i in nodes])\n",
    "    return nodes, distance_matrix\n",
    "\n",
    "nodes, distance_matrix = load_tsp(\"berlin52.tsp\")\n",
    "\n",
    "def calculate_cost(tour, distance_matrix):\n",
    "    return sum(distance_matrix[tour[i], tour[i+1]] for i in range(len(tour)-1)) + distance_matrix[tour[-1], tour[0]]\n",
    "\n",
    "def simulated_annealing(distance_matrix, initial_temp, cooling_rate, max_iter):\n",
    "    n = len(distance_matrix)\n",
    "    current_tour = list(range(n))\n",
    "    random.shuffle(current_tour)\n",
    "    current_cost = calculate_cost(current_tour, distance_matrix)\n",
    "    best_tour = current_tour\n",
    "    best_cost = current_cost\n",
    "    \n",
    "    temperature = initial_temp\n",
    "    \n",
    "    for _ in range(max_iter):\n",
    "        # Generate a neighboring solution\n",
    "        i, j = random.sample(range(n), 2)\n",
    "        neighbor_tour = current_tour[:]\n",
    "        neighbor_tour[i], neighbor_tour[j] = neighbor_tour[j], neighbor_tour[i]\n",
    "        neighbor_cost = calculate_cost(neighbor_tour, distance_matrix)\n",
    "        \n",
    "        # Accept or reject the neighbor\n",
    "        if neighbor_cost < current_cost or random.random() < math.exp(-(neighbor_cost - current_cost) / temperature):\n",
    "            current_tour = neighbor_tour\n",
    "            current_cost = neighbor_cost\n",
    "            \n",
    "        # Update the best solution\n",
    "        if current_cost < best_cost:\n",
    "            best_tour = current_tour\n",
    "            best_cost = current_cost\n",
    "        \n",
    "        # Decrease the temperature\n",
    "        temperature *= cooling_rate\n",
    "    \n",
    "    return best_tour, best_cost\n",
    "\n",
    "# Parameters for SA\n",
    "initial_temp = 10000\n",
    "cooling_rate = 0.995\n",
    "max_iter = 10000\n",
    "\n",
    "best_tour, best_cost = simulated_annealing(distance_matrix, initial_temp, cooling_rate, max_iter)\n",
    "print(\"Best Tour:\", best_tour)\n",
    "print(\"Best Cost:\", best_cost)"
   ]
  },
  {
   "cell_type": "markdown",
   "metadata": {},
   "source": [
    "temporal SA code"
   ]
  }
 ],
 "metadata": {
  "kernelspec": {
   "display_name": "Python 3",
   "language": "python",
   "name": "python3"
  },
  "language_info": {
   "codemirror_mode": {
    "name": "ipython",
    "version": 3
   },
   "file_extension": ".py",
   "mimetype": "text/x-python",
   "name": "python",
   "nbconvert_exporter": "python",
   "pygments_lexer": "ipython3",
   "version": "3.12.2"
  }
 },
 "nbformat": 4,
 "nbformat_minor": 2
}
