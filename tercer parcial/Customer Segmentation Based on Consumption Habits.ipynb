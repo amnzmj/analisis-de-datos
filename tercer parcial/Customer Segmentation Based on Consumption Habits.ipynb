{
 "cells": [
  {
   "cell_type": "markdown",
   "metadata": {},
   "source": [
    "## Exercise: Customer Segmentation Based on Consumption Habits  \n",
    "Problem Description  \n",
    "You work for a market analysis company that wants to segment its customers into groups based on their consumption habits. You are provided with a fictitious dataset containing customer characteristics related to their monthly spending and purchase frequency. The goal is to identify patterns in the data and divide the customers into groups using unsupervised clustering algorithms."
   ]
  },
  {
   "cell_type": "markdown",
   "metadata": {},
   "source": [
    "### Dataset  \n",
    "#### The dataset includes information about 300 customers, with the following features:\n",
    "\n",
    "- Monthly Income (1,000 and $10,000).  \n",
    "- Purchase Frequency: Number of purchases made per month (between 1 and 30).\n",
    "- Average Spending (20 and $500).  \n",
    "- Tenure (years): How long the customer has been in the company’s database (between 1 and 15 years). The data will be provided in CSV  \n",
    "\n",
    "format with the columns: MonthlyIncome, PurchaseFrequency, AverageSpending, Tenure."
   ]
  },
  {
   "cell_type": "code",
   "execution_count": null,
   "metadata": {},
   "outputs": [],
   "source": [
    "import pandas as pd\n",
    "import seaborn as sns\n",
    "import matplotlib.pyplot as plt\n",
    "\n",
    "customer_data = pd.read_csv('customer_data.csv')\n",
    "pd.set_option('display.max_rows', None)\n",
    "#customer_data\n"
   ]
  },
  {
   "cell_type": "code",
   "execution_count": null,
   "metadata": {},
   "outputs": [
    {
     "name": "stdout",
     "output_type": "stream",
     "text": [
      "<class 'pandas.core.frame.DataFrame'>\n",
      "RangeIndex: 300 entries, 0 to 299\n",
      "Data columns (total 4 columns):\n",
      " #   Column             Non-Null Count  Dtype  \n",
      "---  ------             --------------  -----  \n",
      " 0   MonthlyIncome      300 non-null    float64\n",
      " 1   PurchaseFrequency  300 non-null    int64  \n",
      " 2   AverageSpending    300 non-null    float64\n",
      " 3   Tenure             300 non-null    int64  \n",
      "dtypes: float64(2), int64(2)\n",
      "memory usage: 9.5 KB\n"
     ]
    },
    {
     "data": {
      "text/plain": [
       "(None, (300, 4))"
      ]
     },
     "execution_count": 4,
     "metadata": {},
     "output_type": "execute_result"
    }
   ],
   "source": [
    "customer_data.info(), customer_data.shape,"
   ]
  },
  {
   "cell_type": "code",
   "execution_count": 6,
   "metadata": {},
   "outputs": [
    {
     "data": {
      "text/plain": [
       "(MonthlyIncome        1045.554255\n",
       " PurchaseFrequency       1.000000\n",
       " AverageSpending        21.245612\n",
       " Tenure                  1.000000\n",
       " dtype: float64,\n",
       " MonthlyIncome        9910.484651\n",
       " PurchaseFrequency      30.000000\n",
       " AverageSpending       498.682657\n",
       " Tenure                 15.000000\n",
       " dtype: float64)"
      ]
     },
     "execution_count": 6,
     "metadata": {},
     "output_type": "execute_result"
    }
   ],
   "source": [
    "customer_data.min(), customer_data.max()"
   ]
  },
  {
   "cell_type": "code",
   "execution_count": 7,
   "metadata": {},
   "outputs": [
    {
     "data": {
      "text/plain": [
       "MonthlyIncome        0\n",
       "PurchaseFrequency    0\n",
       "AverageSpending      0\n",
       "Tenure               0\n",
       "dtype: int64"
      ]
     },
     "execution_count": 7,
     "metadata": {},
     "output_type": "execute_result"
    }
   ],
   "source": [
    "null_values = customer_data.isnull().sum()\n",
    "null_values"
   ]
  },
  {
   "cell_type": "markdown",
   "metadata": {},
   "source": [
    "los datos se ven bien, sin valores nulos"
   ]
  },
  {
   "cell_type": "code",
   "execution_count": 10,
   "metadata": {},
   "outputs": [
    {
     "data": {
      "text/html": [
       "<div>\n",
       "<style scoped>\n",
       "    .dataframe tbody tr th:only-of-type {\n",
       "        vertical-align: middle;\n",
       "    }\n",
       "\n",
       "    .dataframe tbody tr th {\n",
       "        vertical-align: top;\n",
       "    }\n",
       "\n",
       "    .dataframe thead th {\n",
       "        text-align: right;\n",
       "    }\n",
       "</style>\n",
       "<table border=\"1\" class=\"dataframe\">\n",
       "  <thead>\n",
       "    <tr style=\"text-align: right;\">\n",
       "      <th></th>\n",
       "      <th>MonthlyIncome</th>\n",
       "      <th>PurchaseFrequency</th>\n",
       "      <th>AverageSpending</th>\n",
       "      <th>Tenure</th>\n",
       "    </tr>\n",
       "  </thead>\n",
       "  <tbody>\n",
       "    <tr>\n",
       "      <th>count</th>\n",
       "      <td>300.000000</td>\n",
       "      <td>300.000000</td>\n",
       "      <td>300.000000</td>\n",
       "      <td>300.000000</td>\n",
       "    </tr>\n",
       "    <tr>\n",
       "      <th>mean</th>\n",
       "      <td>5456.841392</td>\n",
       "      <td>16.246667</td>\n",
       "      <td>261.815191</td>\n",
       "      <td>7.813333</td>\n",
       "    </tr>\n",
       "    <tr>\n",
       "      <th>std</th>\n",
       "      <td>2649.064855</td>\n",
       "      <td>8.826789</td>\n",
       "      <td>135.345720</td>\n",
       "      <td>4.388929</td>\n",
       "    </tr>\n",
       "    <tr>\n",
       "      <th>min</th>\n",
       "      <td>1045.554255</td>\n",
       "      <td>1.000000</td>\n",
       "      <td>21.245612</td>\n",
       "      <td>1.000000</td>\n",
       "    </tr>\n",
       "    <tr>\n",
       "      <th>25%</th>\n",
       "      <td>3151.727236</td>\n",
       "      <td>9.000000</td>\n",
       "      <td>148.634645</td>\n",
       "      <td>4.000000</td>\n",
       "    </tr>\n",
       "    <tr>\n",
       "      <th>50%</th>\n",
       "      <td>5605.459557</td>\n",
       "      <td>17.000000</td>\n",
       "      <td>273.970435</td>\n",
       "      <td>8.000000</td>\n",
       "    </tr>\n",
       "    <tr>\n",
       "      <th>75%</th>\n",
       "      <td>7811.736545</td>\n",
       "      <td>24.000000</td>\n",
       "      <td>374.441184</td>\n",
       "      <td>12.000000</td>\n",
       "    </tr>\n",
       "    <tr>\n",
       "      <th>max</th>\n",
       "      <td>9910.484651</td>\n",
       "      <td>30.000000</td>\n",
       "      <td>498.682657</td>\n",
       "      <td>15.000000</td>\n",
       "    </tr>\n",
       "  </tbody>\n",
       "</table>\n",
       "</div>"
      ],
      "text/plain": [
       "       MonthlyIncome  PurchaseFrequency  AverageSpending      Tenure\n",
       "count     300.000000         300.000000       300.000000  300.000000\n",
       "mean     5456.841392          16.246667       261.815191    7.813333\n",
       "std      2649.064855           8.826789       135.345720    4.388929\n",
       "min      1045.554255           1.000000        21.245612    1.000000\n",
       "25%      3151.727236           9.000000       148.634645    4.000000\n",
       "50%      5605.459557          17.000000       273.970435    8.000000\n",
       "75%      7811.736545          24.000000       374.441184   12.000000\n",
       "max      9910.484651          30.000000       498.682657   15.000000"
      ]
     },
     "execution_count": 10,
     "metadata": {},
     "output_type": "execute_result"
    }
   ],
   "source": [
    "customer_data.describe()"
   ]
  },
  {
   "cell_type": "code",
   "execution_count": null,
   "metadata": {},
   "outputs": [
    {
     "data": {
      "image/png": "[encoded data removed]",
      "text/plain": [
       "<Figure size 1200x400 with 4 Axes>"
      ]
     },
     "metadata": {},
     "output_type": "display_data"
    }
   ],
   "source": [
    "\n",
    "# Crear una figura y ejes para los subplots\n",
    "sturges = 9\n",
    "fig, axes = plt.subplots(1, 4, figsize=(12, 4))  # 1 fila, 4 columnas\n",
    "\n",
    "# Primera gráfica: Histograma de MonthlyIncome\n",
    "customer_data['MonthlyIncome'].hist(\n",
    "    bins=sturges, \n",
    "    color='lightblue', \n",
    "    edgecolor='black', \n",
    "    ax=axes[0]  # Especificar el primer subplot\n",
    ")\n",
    "axes[0].set_title('Monthly Income Histogram')\n",
    "axes[0].set_xlabel('Income in $')\n",
    "\n",
    "# Segunda gráfica: Histograma de PurchaseFrequency\n",
    "customer_data['PurchaseFrequency'].hist(\n",
    "    bins=sturges, \n",
    "    color='green', \n",
    "    edgecolor='black', \n",
    "    ax=axes[1]  # Especificar el segundo subplot\n",
    ")\n",
    "axes[1].set_title('Purchase Frequency Histogram')\n",
    "axes[1].set_xlabel('times/month')\n",
    "\n",
    "#avg spending\n",
    "customer_data['AverageSpending'].hist(\n",
    "    bins=sturges, \n",
    "    color='pink', \n",
    "    edgecolor='black', \n",
    "    ax=axes[2]  \n",
    ")\n",
    "axes[2].set_title('Average spending Histogram')\n",
    "\n",
    "axes[2].set_xlabel('Avg spending in $')\n",
    "\n",
    "#tenure\n",
    "customer_data['Tenure'].hist(\n",
    "    bins=sturges, \n",
    "    color='yellow', \n",
    "    edgecolor='black', \n",
    "    ax=axes[3]  \n",
    ")\n",
    "axes[3].set_title('Tenure Histogram')\n",
    "axes[3].set_xlabel('Tenure in years')\n",
    "\n",
    "# Ajustar espacio entre subplots\n",
    "plt.tight_layout()\n",
    "\n",
    "# Mostrar las gráficas\n",
    "plt.show()\n",
    "\n"
   ]
  },
  {
   "cell_type": "markdown",
   "metadata": {},
   "source": [
    "No parece haber un sesgo definido, solo en avg spending en 250 "
   ]
  },
  {
   "cell_type": "code",
   "execution_count": null,
   "metadata": {},
   "outputs": [],
   "source": []
  }
 ],
 "metadata": {
  "kernelspec": {
   "display_name": "Python 3",
   "language": "python",
   "name": "python3"
  },
  "language_info": {
   "codemirror_mode": {
    "name": "ipython",
    "version": 3
   },
   "file_extension": ".py",
   "mimetype": "text/x-python",
   "name": "python",
   "nbconvert_exporter": "python",
   "pygments_lexer": "ipython3",
   "version": "3.12.2"
  }
 },
 "nbformat": 4,
 "nbformat_minor": 2
}
