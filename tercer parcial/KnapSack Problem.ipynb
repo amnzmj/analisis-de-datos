{
 "cells": [
  {
   "cell_type": "code",
   "execution_count": null,
   "metadata": {},
   "outputs": [
    {
     "name": "stdout",
     "output_type": "stream",
     "text": [
      "Valor total máximo obtenido: 623\n",
      "Ítems incluidos:\n",
      "Valor: 80, Peso: 5 (Completamente incluido)\n",
      "Valor: 60, Peso: 10 (Completamente incluido)\n",
      "Valor: 255, Peso: 49 (Completamente incluido)\n",
      "Valor: 100, Peso: 20 (Completamente incluido)\n",
      "Valor: 120, Peso: 30 (Completamente incluido)\n",
      "Valor: 8, Peso: 3 (Completamente incluido)\n"
     ]
    }
   ],
   "source": [
    "# Datos del problema\n",
    "values = [60, 100, 120, 255, 80, 8]\n",
    "weights = [10, 20, 30, 49, 5, 3]\n",
    "capacity = 150\n",
    "\n",
    "# Calcular valor por peso para cada ítem y ordenarlos en orden descendente\n",
    "items = [(values[i], weights[i], values[i] / weights[i]) for i in range(len(values))]\n",
    "items = sorted(items, key=lambda x: x[2], reverse=True)\n",
    "\n",
    "# Resolver el problema de la mochila fraccional usando el algoritmo greedy\n",
    "total_value = 0\n",
    "remaining_capacity = capacity\n",
    "included_items = []\n",
    "\n",
    "for value, weight, value_per_weight in items:\n",
    "    if weight <= remaining_capacity:\n",
    "        # Incluir el ítem completo\n",
    "        total_value += value\n",
    "        remaining_capacity -= weight\n",
    "        included_items.append((value, weight, 1))  # 1 indica que se incluyó completamente\n",
    "    else:\n",
    "        # Incluir una fracción del ítem\n",
    "        fraction = remaining_capacity / weight\n",
    "        total_value += value * fraction\n",
    "        included_items.append((value, weight, fraction))\n",
    "        break  # Ya no se puede incluir más ítems\n",
    "\n",
    "# Resultado\n",
    "\n",
    "print(\"valor todos los items\", total_value)\n",
    "print(\"Ítems incluidos:\")\n",
    "for value, weight, fraction in included_items:\n",
    "    if fraction == 1:\n",
    "        print(f\"Valor: {value}, Peso: {weight} (Completamente incluido)\")\n",
    "    else:\n",
    "        # print(f\"Valor: {value}, Peso: {weight} (Incluido parcialmente: {fraction:.2f})\")\n",
    "        print(f\"Valor: {value}, Peso: {weight} (no incluido)\")\n"
   ]
  }
 ],
 "metadata": {
  "kernelspec": {
   "display_name": "Python 3",
   "language": "python",
   "name": "python3"
  },
  "language_info": {
   "codemirror_mode": {
    "name": "ipython",
    "version": 3
   },
   "file_extension": ".py",
   "mimetype": "text/x-python",
   "name": "python",
   "nbconvert_exporter": "python",
   "pygments_lexer": "ipython3",
   "version": "3.12.2"
  }
 },
 "nbformat": 4,
 "nbformat_minor": 2
}
