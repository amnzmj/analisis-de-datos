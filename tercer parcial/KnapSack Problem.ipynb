{
 "cells": [
  {
   "cell_type": "code",
   "execution_count": 30,
   "metadata": {},
   "outputs": [],
   "source": [
    "# Datos del problema\n",
    "values = [60, 100, 120, 255, 80, 8]\n",
    "weights = [10, 20, 30, 49, 5, 3]\n",
    "capacity = 150"
   ]
  },
  {
   "cell_type": "code",
   "execution_count": 31,
   "metadata": {},
   "outputs": [],
   "source": [
    "# mochila greedy tambien usa fracciones por alguna razon\n",
    "total_value = 0\n",
    "remaining_capacity = capacity\n",
    "included_items = []"
   ]
  },
  {
   "cell_type": "code",
   "execution_count": null,
   "metadata": {},
   "outputs": [],
   "source": [
    "\n",
    "for value, weight, value_per_weight in items:\n",
    "    if weight <= remaining_capacity:\n",
    "        # Incluir el ítem \n",
    "        total_value += value\n",
    "        remaining_capacity -= weight\n",
    "        included_items.append((value, weight))  \n",
    "   "
   ]
  },
  {
   "cell_type": "code",
   "execution_count": 33,
   "metadata": {},
   "outputs": [
    {
     "data": {
      "text/plain": [
       "(3, [(80, 5), (60, 10), (255, 49), (100, 20), (120, 30), (8, 3)])"
      ]
     },
     "execution_count": 33,
     "metadata": {},
     "output_type": "execute_result"
    }
   ],
   "source": [
    "weight, included_items,"
   ]
  },
  {
   "cell_type": "code",
   "execution_count": null,
   "metadata": {},
   "outputs": [
    {
     "name": "stdout",
     "output_type": "stream",
     "text": [
      "valor todos los items 623\n",
      "valor pemitido 150\n",
      "peso 3\n",
      "Ítems incluidos:\n",
      "Valor: 80, Peso: 5 (incluido)\n",
      "Valor: 60, Peso: 10 (incluido)\n",
      "Valor: 255, Peso: 49 (incluido)\n",
      "Valor: 100, Peso: 20 (incluido)\n",
      "Valor: 120, Peso: 30 (incluido)\n",
      "Valor: 8, Peso: 3 (incluido)\n"
     ]
    }
   ],
   "source": [
    "\n",
    "print(\"valor todos los items\", total_value)\n",
    "print(\"valor pemitido\", capacity)\n",
    "#print(\"peso\", weight)\n",
    "print(\"Ítems incluidos:\")\n",
    "for value, weight in included_items:\n",
    "    print(f\"Valor: {value}, Peso: {weight} (incluido)\")\n",
    "\n",
    "\n",
    "\n"
   ]
  },
  {
   "cell_type": "code",
   "execution_count": null,
   "metadata": {},
   "outputs": [
    {
     "data": {
      "text/plain": [
       "[(80, 5, 1),\n",
       " (60, 10, 1),\n",
       " (255, 49, 1),\n",
       " (100, 20, 1),\n",
       " (120, 30, 1),\n",
       " (8, 3, 1),\n",
       " (80, 5, 1),\n",
       " (60, 10, 1),\n",
       " (8, 3, 1),\n",
       " (80, 5, 1),\n",
       " (60, 10, 1),\n",
       " (255, 49, 0.0)]"
      ]
     },
     "execution_count": 29,
     "metadata": {},
     "output_type": "execute_result"
    }
   ],
   "source": [
    "included_items"
   ]
  },
  {
   "cell_type": "code",
   "execution_count": null,
   "metadata": {},
   "outputs": [
    {
     "name": "stdout",
     "output_type": "stream",
     "text": [
      "Valor máximo que se puede obtener: $ 60\n",
      "Ítems seleccionados: [1]\n"
     ]
    }
   ],
   "source": [
    "def knapsack(values, weights, capacity):\n",
    "    n = len(values)#\n",
    "    dp = [[0 for _ in range(capacity + 1)] for _ in range(n + 1)] #lista diamicaaaa\n",
    "\n",
    "\n",
    "    for i in range(1, n + 1):\n",
    "        for w in range(capacity + 1):#iterar\n",
    "            if weights[i - 1] <= w:\n",
    "                dp[i][w] = max(dp[i - 1][w], dp[i - 1][w - weights[i - 1]] + values[i - 1])\n",
    "            else:\n",
    "                dp[i][w] = dp[i - 1][w] #no cabe asi que se queda como esta\n",
    "                \n",
    "    max_value = dp[n][capacity] #calcula valor max dentro de la mochila\n",
    "\n",
    "    # Para encontrar los ítems seleccionados\n",
    "    w = capacity\n",
    "    items_selected = []\n",
    "    for i in range(n, 0, -1):\n",
    "        if dp[i][w] != dp[i - 1][w]:\n",
    "            items_selected.append(i)\n",
    "            w -= weights[i - 1]\n",
    "\n",
    "    return max_value, items_selected\n",
    "\n",
    "# Datos del problema\n",
    "values = [60, 100, 120]\n",
    "weights = [10, 20, 30]\n",
    "capacity = 15\n",
    "\n",
    "# Resolver el problema\n",
    "max_value, items_selected = knapsack(values, weights, capacity)\n",
    "print(\"Valor máximo que se puede obtener: $\", max_value)\n",
    "print(\"Ítems seleccionados:\", items_selected)\n"
   ]
  }
 ],
 "metadata": {
  "kernelspec": {
   "display_name": "Python 3",
   "language": "python",
   "name": "python3"
  },
  "language_info": {
   "codemirror_mode": {
    "name": "ipython",
    "version": 3
   },
   "file_extension": ".py",
   "mimetype": "text/x-python",
   "name": "python",
   "nbconvert_exporter": "python",
   "pygments_lexer": "ipython3",
   "version": "3.12.2"
  }
 },
 "nbformat": 4,
 "nbformat_minor": 2
}
