{
 "cells": [
  {
   "cell_type": "markdown",
   "metadata": {},
   "source": [
    "## Flights Data Exploration Challenge\n",
    "\n",
    "base de datos CSV de vuelos de EU en 2013"
   ]
  },
  {
   "cell_type": "code",
   "execution_count": null,
   "metadata": {},
   "outputs": [],
   "source": [
    "import pandas as pd\n",
    "\n",
    "df_flights = pd.read_csv('flights.csv')#importamos el CSV como df_flights\n",
    "\n",
    "df_flights.columns # comando para visualizas columnas\n",
    "\n"
   ]
  },
  {
   "cell_type": "markdown",
   "metadata": {},
   "source": [
    "## Indice de columnas\n",
    "\n",
    "- Year: The year of the flight (all records are from 2013)  \n",
    "- Month: The month of the flight  \n",
    "- DayofMonth: The day of the month on which the flight departed  \n",
    "- DayOfWeek: The day of the week on which the flight departed - from 1 (Monday) to 7 (Sunday)  \n",
    "- Carrier: The two-letter abbreviation for the airline.  \n",
    "- OriginAirportID: A unique numeric identifier for the departure aiport  \n",
    "- OriginAirportName: The full name of the departure airport  \n",
    "- OriginCity: The departure airport city  \n",
    "- OriginState: The departure airport state  \n",
    "- DestAirportID: A unique numeric identifier for the destination aiport  \n",
    "- DestAirportName: The full name of the destination airport  \n",
    "- DestCity: The destination airport city  \n",
    "- DestState: The destination airport state  \n",
    "- CRSDepTime: The scheduled departure time  \n",
    "- DepDelay: The number of minutes departure was delayed (flight that left ahead of schedule have a negative value)  \n",
    "- DelDelay15: A binary indicator that departure was delayed by more than 15 minutes (and therefore considered \"late\")  \n",
    "- CRSArrTime: The scheduled arrival time  \n",
    "- ArrDelay: The number of minutes arrival was delayed (flight that arrived ahead of schedule have a negative value)  \n",
    "- ArrDelay15: A binary indicator that arrival was delayed by more than 15 minutes (and therefore considered \"late\")  \n",
    "- Cancelled: A binary indicator that the flight was cancelled  "
   ]
  },
  {
   "cell_type": "markdown",
   "metadata": {},
   "source": [
    "## objetivo: identificar posibles factores ue afecten la llegada o salida de los vuelos\n",
    "\n",
    "### - 1 limpieza de datos\n",
    "    identificar datos nulos o faltantes y reemplazar por algo adecuado\n",
    "    existen valores atípicos en **ArrDelay** y **DepDelay\n",
    "    \n",
    "- ArrDelay: The number of minutes arrival was delayed (flight that arrived ahead of schedule have a negative value)  \n",
    "- DepDelay: The number of minutes departure was delayed (flight that left ahead of schedule have a negative value)  "
   ]
  },
  {
   "cell_type": "code",
   "execution_count": null,
   "metadata": {},
   "outputs": [],
   "source": [
    "print(df_flights.to_string())\n",
    "pd.set_option('display.max_rows', None) #muestra todo alv"
   ]
  },
  {
   "cell_type": "code",
   "execution_count": null,
   "metadata": {},
   "outputs": [],
   "source": [
    "negativos_ArrDelay = df_flights['ArrDelay'] <= 0\n",
    "negativos_ArrDelay"
   ]
  },
  {
   "cell_type": "code",
   "execution_count": null,
   "metadata": {},
   "outputs": [],
   "source": [
    "# #atipicos_ArrDelay=df_flights[negativos_ArrDelay]\n",
    "\n",
    "#esto crashea el programa\n",
    "\n",
    "atipicos_ArrDelay=df_flights[df_flights['ArrDelay']<= 0]\n",
    "atipicos_ArrDelay"
   ]
  },
  {
   "cell_type": "code",
   "execution_count": null,
   "metadata": {},
   "outputs": [],
   "source": [
    "\n",
    "# new_df_flights = df_flights.dropna() #limpiar espacios vacios\n",
    "\n",
    "# print(new_df_flights.to_string()) #muestra como string alv y scrolleable\n",
    "\n",
    "# #pd.set_option('display.max_rows', None) #muestra todo alv"
   ]
  },
  {
   "cell_type": "markdown",
   "metadata": {},
   "source": []
  }
 ],
 "metadata": {
  "kernelspec": {
   "display_name": "Python 3",
   "language": "python",
   "name": "python3"
  },
  "language_info": {
   "codemirror_mode": {
    "name": "ipython",
    "version": 3
   },
   "file_extension": ".py",
   "mimetype": "text/x-python",
   "name": "python",
   "nbconvert_exporter": "python",
   "pygments_lexer": "ipython3",
   "version": "3.12.7"
  }
 },
 "nbformat": 4,
 "nbformat_minor": 2
}
