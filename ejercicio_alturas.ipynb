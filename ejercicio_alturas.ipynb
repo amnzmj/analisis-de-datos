{
 "cells": [
  {
   "cell_type": "markdown",
   "metadata": {},
   "source": [
    "## Ejercicio alturas \n",
    "De las 3 hipótesis planteadas en la presentación, generar la información que permita obtener los parámetros estadísticos que nos servirán para rechazar o no las hipótesis nulas planteadas.\n",
    "\n",
    "+10 Para obtener estos puntos será necesario investigar un estadístico de prueba, y presentarlo en clase, tanto la metodología como la aplicación de esta a los datos mencionados anteriormente, y deberán de explicar como analizaron estos datos y si se rechazo o no las hipótesis correspondientes.\n",
    "\n",
    "De 3 variables diferentes de la BD utilizada para el examen del primer parcial, plantear 3 hipótesis, y generar los parámetros estadísticos que sean necesarios para validar las hipótesis nulas, con los estadísticos de prueba que veremos la próxima clase.\n",
    "\n",
    "\n",
    "Definir Hipótesis:\n",
    "- ¿Tienen las estudiantes de 9vo una estatura media diferente de 175 cm?  \n",
    "   H0: $\\mu$ m =! 175\n",
    "- ¿Es la desviación estándar de su estatura igual a o menor que 10 cm?  \n",
    "   H0: $\\sigma$ =< 10\n",
    "- ¿Es diferente la estatura promedio de las mujeres comparada con la de los hombres?  \n",
    "   H0: $\\mu$ h =! $\\mu$ m  \n",
    "Grados de Libertad y Nivel de Significancia  \n",
    "Fórmulas o Ecuaciones  \n",
    "Evaluación  \n"
   ]
  },
  {
   "cell_type": "markdown",
   "metadata": {},
   "source": [
    "### Datos"
   ]
  },
  {
   "cell_type": "code",
   "execution_count": null,
   "metadata": {},
   "outputs": [],
   "source": [
    "import pandas as pd\n",
    "import matplotlib.pyplot as plt \n",
    "\n",
    "estaturas_grupo ={\n",
    "    'nombre': ['Fer','Ale','Alex Muñoz','Gael','Erick','Angie','Karla','Angel','Jose Jacal','Leo Dorantes','Lalo','Antonio','Luis Hurtado','Cristian ','Juve',],\n",
    "    'altura':[180,170,170,168,165,168,170,175,175,171,172,170,177,170,176 ], \n",
    "    'sexo':['M','M','M','M','M','F','F','M','M','M','M','M','M','M','M',]}\n",
    "\n",
    "indexes = ['1','2','3','4','5','6','7','8','9','10','11','12','13','14','15',]\n",
    "columns = ['nombre','altura','sexo']\n",
    "\n",
    "df_estaturas = pd.DataFrame(estaturas_grupo)\n",
    "df_estaturas"
   ]
  },
  {
   "cell_type": "markdown",
   "metadata": {},
   "source": [
    "### promedio"
   ]
  },
  {
   "cell_type": "code",
   "execution_count": null,
   "metadata": {},
   "outputs": [],
   "source": [
    "promedio_estaturas = df_estaturas['altura'].mean()\n",
    "promedio_estaturas\n"
   ]
  },
  {
   "cell_type": "code",
   "execution_count": null,
   "metadata": {},
   "outputs": [],
   "source": [
    "df_estatura_mujeres = df_estaturas [df_estaturas['sexo'] == 'F']\n",
    "media_mujeres = df_estatura_mujeres ['altura'].mean()\n",
    "media_mujeres"
   ]
  },
  {
   "cell_type": "code",
   "execution_count": null,
   "metadata": {},
   "outputs": [],
   "source": [
    "df_estatura_hombres = df_estaturas [df_estaturas['sexo'] == 'M']\n",
    "media_hombres = df_estatura_hombres ['altura'].mean()\n",
    "media_hombres"
   ]
  },
  {
   "cell_type": "markdown",
   "metadata": {},
   "source": [
    "### desviación estandar"
   ]
  },
  {
   "cell_type": "code",
   "execution_count": null,
   "metadata": {},
   "outputs": [],
   "source": [
    "desv_estandar_estaturas = df_estaturas ['altura'].std()\n",
    "desv_estandar_estaturas"
   ]
  },
  {
   "cell_type": "markdown",
   "metadata": {},
   "source": [
    "### conclusiones"
   ]
  },
  {
   "cell_type": "markdown",
   "metadata": {},
   "source": [
    "- ¿Tienen las estudiantes de 9vo una estatura media diferente de 175 cm?  \n",
    "   H0: $\\mu$ m =! 175  \n",
    "   $\\mu$ m = 172.23076923076923 por lo tanto se confirma la hipótesis nula\n",
    "   \n",
    "- ¿Es la desviación estándar de su estatura igual a o menor que 10 cm?  \n",
    "   H0: $\\sigma$ =< 10\n",
    "   $\\sigma$ = 4.003569835605647 por lo tanto se confirma la hipótesis nula\n",
    "\n",
    "- ¿Es diferente la estatura promedio de las mujeres comparada con la de los hombres?  \n",
    "   H0: $\\mu$ h =! $\\mu$ m  \n",
    "   $\\mu$ h = 172.23076923076923 \n",
    "   $\\mu$ m = 169.0\n",
    "   por lo tanto se confirma la hipótesis nula"
   ]
  },
  {
   "cell_type": "markdown",
   "metadata": {},
   "source": [
    "***\n",
    "### ejercicio datos aeropuerto\n",
    "\n",
    "De 3 variables diferentes de la BD utilizada para el examen del primer parcial, plantear 3 hipótesis, y generar los parámetros estadísticos que sean necesarios para validar las hipótesis nulas, con los estadísticos de prueba que veremos la próxima clase.\n",
    "\n",
    "- la cantidad de retrasos de la aerolinea x es el mayor de todos\n",
    "    H0: Nretrasosx > otros manejar como promedio\n",
    "    anova  de dos o mas grupos\n",
    "\n",
    "- existe una relacion entre aerolinea y vuelos cancelados?\n",
    "- o aeropuerto y vuelos cancelados\n",
    "prueba chi cuadrada para comprobar relacion entre 2 variables categoricas\n",
    "\n",
    "\n"
   ]
  },
  {
   "cell_type": "code",
   "execution_count": null,
   "metadata": {},
   "outputs": [],
   "source": [
    "df_flights = pd.read_csv('flights.csv')\n",
    "df_flights.info()"
   ]
  },
  {
   "cell_type": "code",
   "execution_count": null,
   "metadata": {},
   "outputs": [],
   "source": [
    "carrier_cancelled = df_flights [['Carrier','Cancelled']]\n",
    "pd.set_option('display.max_rows', None)\n",
    "carrier_cancelled\n"
   ]
  }
 ],
 "metadata": {
  "kernelspec": {
   "display_name": "Python 3",
   "language": "python",
   "name": "python3"
  },
  "language_info": {
   "codemirror_mode": {
    "name": "ipython",
    "version": 3
   },
   "file_extension": ".py",
   "mimetype": "text/x-python",
   "name": "python",
   "nbconvert_exporter": "python",
   "pygments_lexer": "ipython3",
   "version": "3.12.2"
  }
 },
 "nbformat": 4,
 "nbformat_minor": 2
}
