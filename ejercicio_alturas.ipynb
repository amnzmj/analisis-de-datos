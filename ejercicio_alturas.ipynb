{
 "cells": [
  {
   "cell_type": "markdown",
   "metadata": {},
   "source": [
    "## Ejercicio alturas \n",
    "De las 3 hipótesis planteadas en la presentación, generar la información que permita obtener los parámetros estadísticos que nos servirán para rechazar o no las hipótesis nulas planteadas.\n",
    "\n",
    "+10 Para obtener estos puntos será necesario investigar un estadístico de prueba, y presentarlo en clase, tanto la metodología como la aplicación de esta a los datos mencionados anteriormente, y deberán de explicar como analizaron estos datos y si se rechazo o no las hipótesis correspondientes.\n",
    "\n",
    "De 3 variables diferentes de la BD utilizada para el examen del primer parcial, plantear 3 hipótesis, y generar los parámetros estadísticos que sean necesarios para validar las hipótesis nulas, con los estadísticos de prueba que veremos la próxima clase.\n",
    "\n",
    "\n",
    "Definir Hipótesis:\n",
    "- ¿Tienen las estudiantes de 9vo una estatura media diferente de 175 cm?  \n",
    "   H0: $\\mu$ m =! 175\n",
    "- ¿Es la desviación estándar de su estatura igual a o menor que 10 cm?  \n",
    "   H0: $\\sigma$ =< 10\n",
    "- ¿Es diferente la estatura promedio de las mujeres comparada con la de los hombres?  \n",
    "   H0: $\\mu$ h =! $\\mu$ m  \n",
    "Grados de Libertad y Nivel de Significancia  \n",
    "Fórmulas o Ecuaciones  \n",
    "Evaluación  \n"
   ]
  },
  {
   "cell_type": "markdown",
   "metadata": {},
   "source": [
    "### Datos"
   ]
  },
  {
   "cell_type": "code",
   "execution_count": null,
   "metadata": {},
   "outputs": [],
   "source": [
    "import pandas as pd\n",
    "import matplotlib.pyplot as plt \n",
    "\n",
    "estaturas_grupo ={\n",
    "    'nombre': ['Fer','Ale','Alex Muñoz','Gael','Erick','Angie','Karla','Angel','Jose Jacal','Leo Dorantes','Lalo','Antonio','Luis Hurtado','Cristian ','Juve',],\n",
    "    'altura':[180,170,170,168,165,168,170,175,175,171,172,170,177,170,176 ], \n",
    "    'sexo':['M','M','M','M','M','F','F','M','M','M','M','M','M','M','M',]}\n",
    "\n",
    "indexes = ['1','2','3','4','5','6','7','8','9','10','11','12','13','14','15',]\n",
    "columns = ['nombre','altura','sexo']\n",
    "\n",
    "df_estaturas = pd.DataFrame(estaturas_grupo)\n",
    "df_estaturas"
   ]
  },
  {
   "cell_type": "markdown",
   "metadata": {},
   "source": [
    "### promedio"
   ]
  },
  {
   "cell_type": "code",
   "execution_count": null,
   "metadata": {},
   "outputs": [],
   "source": [
    "promedio_estaturas = df_estaturas['altura'].mean()\n",
    "promedio_estaturas\n"
   ]
  },
  {
   "cell_type": "code",
   "execution_count": null,
   "metadata": {},
   "outputs": [],
   "source": [
    "df_estatura_mujeres = df_estaturas [df_estaturas['sexo'] == 'F']\n",
    "media_mujeres = df_estatura_mujeres ['altura'].mean()\n",
    "media_mujeres"
   ]
  },
  {
   "cell_type": "code",
   "execution_count": null,
   "metadata": {},
   "outputs": [],
   "source": [
    "df_estatura_hombres = df_estaturas [df_estaturas['sexo'] == 'M']\n",
    "media_hombres = df_estatura_hombres ['altura'].mean()\n",
    "media_hombres"
   ]
  },
  {
   "cell_type": "markdown",
   "metadata": {},
   "source": [
    "### desviación estandar"
   ]
  },
  {
   "cell_type": "code",
   "execution_count": null,
   "metadata": {},
   "outputs": [],
   "source": [
    "desv_estandar_estaturas = df_estaturas ['altura'].std()\n",
    "desv_estandar_estaturas"
   ]
  },
  {
   "cell_type": "markdown",
   "metadata": {},
   "source": [
    "### conclusiones"
   ]
  },
  {
   "cell_type": "markdown",
   "metadata": {},
   "source": [
    "- ¿Tienen las estudiantes de 9vo una estatura media diferente de 175 cm?  \n",
    "   H0: $\\mu$ m =! 175  \n",
    "   $\\mu$ m = 172.23076923076923 por lo tanto se confirma la hipótesis nula\n",
    "   \n",
    "- ¿Es la desviación estándar de su estatura igual a o menor que 10 cm?  \n",
    "   H0: $\\sigma$ =< 10\n",
    "   $\\sigma$ = 4.003569835605647 por lo tanto se confirma la hipótesis nula\n",
    "\n",
    "- ¿Es diferente la estatura promedio de las mujeres comparada con la de los hombres?  \n",
    "   H0: $\\mu$ h =! $\\mu$ m  \n",
    "   $\\mu$ h = 172.23076923076923 \n",
    "   $\\mu$ m = 169.0\n",
    "   por lo tanto se confirma la hipótesis nula"
   ]
  },
  {
   "cell_type": "markdown",
   "metadata": {},
   "source": [
    "***\n",
    "### ejercicio datos aeropuerto\n",
    "\n",
    "De 3 variables diferentes de la BD utilizada para el examen del primer parcial, plantear 3 hipótesis, y generar los parámetros estadísticos que sean necesarios para validar las hipótesis nulas, con los estadísticos de prueba que veremos la próxima clase.\n",
    "\n",
    "- ¿tienen las aerolíneas efectos diferentes sobre los retrasos?\n",
    "  - H0: $\\mu$ a1 = $\\mu$ a2 = $\\mu$ a3 ... = $\\mu$ an \n",
    "  - H1: $\\mu$ a1 != $\\mu$ a2 != $\\mu$ a3 ... != $\\mu$ an   \n",
    "  utilizaremos chi cuadrada con dos variables categóricas\n",
    "  entre aerolinea y vuelo retrasado  \n",
    "\n",
    "- existe una relacion entre aerolinea y vuelos cancelados?\n",
    "- o aeropuerto y vuelos cancelados\n",
    "prueba chi cuadrada para comprobar relacion entre 2 variables categoricas\n",
    "\n",
    "\n"
   ]
  },
  {
   "cell_type": "code",
   "execution_count": 2,
   "metadata": {},
   "outputs": [
    {
     "name": "stdout",
     "output_type": "stream",
     "text": [
      "<class 'pandas.core.frame.DataFrame'>\n",
      "RangeIndex: 271940 entries, 0 to 271939\n",
      "Data columns (total 20 columns):\n",
      " #   Column             Non-Null Count   Dtype  \n",
      "---  ------             --------------   -----  \n",
      " 0   Year               271940 non-null  int64  \n",
      " 1   Month              271940 non-null  int64  \n",
      " 2   DayofMonth         271940 non-null  int64  \n",
      " 3   DayOfWeek          271940 non-null  int64  \n",
      " 4   Carrier            271940 non-null  object \n",
      " 5   OriginAirportID    271940 non-null  int64  \n",
      " 6   OriginAirportName  271940 non-null  object \n",
      " 7   OriginCity         271940 non-null  object \n",
      " 8   OriginState        271940 non-null  object \n",
      " 9   DestAirportID      271940 non-null  int64  \n",
      " 10  DestAirportName    271940 non-null  object \n",
      " 11  DestCity           271940 non-null  object \n",
      " 12  DestState          271940 non-null  object \n",
      " 13  CRSDepTime         271940 non-null  int64  \n",
      " 14  DepDelay           271940 non-null  int64  \n",
      " 15  DepDel15           269179 non-null  float64\n",
      " 16  CRSArrTime         271940 non-null  int64  \n",
      " 17  ArrDelay           271940 non-null  int64  \n",
      " 18  ArrDel15           271940 non-null  int64  \n",
      " 19  Cancelled          271940 non-null  int64  \n",
      "dtypes: float64(1), int64(12), object(7)\n",
      "memory usage: 41.5+ MB\n"
     ]
    }
   ],
   "source": [
    "import pandas as pd\n",
    "import matplotlib.pyplot as plt \n",
    "\n",
    "df_flights = pd.read_csv('flights.csv')\n",
    "df_flights.info()"
   ]
  },
  {
   "cell_type": "code",
   "execution_count": 4,
   "metadata": {},
   "outputs": [
    {
     "data": {
      "text/html": [
       "<div>\n",
       "<style scoped>\n",
       "    .dataframe tbody tr th:only-of-type {\n",
       "        vertical-align: middle;\n",
       "    }\n",
       "\n",
       "    .dataframe tbody tr th {\n",
       "        vertical-align: top;\n",
       "    }\n",
       "\n",
       "    .dataframe thead th {\n",
       "        text-align: right;\n",
       "    }\n",
       "</style>\n",
       "<table border=\"1\" class=\"dataframe\">\n",
       "  <thead>\n",
       "    <tr style=\"text-align: right;\">\n",
       "      <th></th>\n",
       "      <th>Carrier</th>\n",
       "      <th>ArrDel15</th>\n",
       "    </tr>\n",
       "  </thead>\n",
       "  <tbody>\n",
       "    <tr>\n",
       "      <th>0</th>\n",
       "      <td>DL</td>\n",
       "      <td>0</td>\n",
       "    </tr>\n",
       "    <tr>\n",
       "      <th>1</th>\n",
       "      <td>WN</td>\n",
       "      <td>1</td>\n",
       "    </tr>\n",
       "    <tr>\n",
       "      <th>2</th>\n",
       "      <td>AS</td>\n",
       "      <td>0</td>\n",
       "    </tr>\n",
       "    <tr>\n",
       "      <th>3</th>\n",
       "      <td>OO</td>\n",
       "      <td>1</td>\n",
       "    </tr>\n",
       "    <tr>\n",
       "      <th>4</th>\n",
       "      <td>DL</td>\n",
       "      <td>0</td>\n",
       "    </tr>\n",
       "    <tr>\n",
       "      <th>...</th>\n",
       "      <td>...</td>\n",
       "      <td>...</td>\n",
       "    </tr>\n",
       "    <tr>\n",
       "      <th>271935</th>\n",
       "      <td>VX</td>\n",
       "      <td>1</td>\n",
       "    </tr>\n",
       "    <tr>\n",
       "      <th>271936</th>\n",
       "      <td>FL</td>\n",
       "      <td>1</td>\n",
       "    </tr>\n",
       "    <tr>\n",
       "      <th>271937</th>\n",
       "      <td>WN</td>\n",
       "      <td>1</td>\n",
       "    </tr>\n",
       "    <tr>\n",
       "      <th>271938</th>\n",
       "      <td>HA</td>\n",
       "      <td>0</td>\n",
       "    </tr>\n",
       "    <tr>\n",
       "      <th>271939</th>\n",
       "      <td>UA</td>\n",
       "      <td>1</td>\n",
       "    </tr>\n",
       "  </tbody>\n",
       "</table>\n",
       "<p>271940 rows × 2 columns</p>\n",
       "</div>"
      ],
      "text/plain": [
       "       Carrier  ArrDel15\n",
       "0           DL         0\n",
       "1           WN         1\n",
       "2           AS         0\n",
       "3           OO         1\n",
       "4           DL         0\n",
       "...        ...       ...\n",
       "271935      VX         1\n",
       "271936      FL         1\n",
       "271937      WN         1\n",
       "271938      HA         0\n",
       "271939      UA         1\n",
       "\n",
       "[271940 rows x 2 columns]"
      ]
     },
     "execution_count": 4,
     "metadata": {},
     "output_type": "execute_result"
    }
   ],
   "source": [
    "delays_by_carrier = df_flights [['Carrier','ArrDel15']]\n",
    "delays_by_carrier\n"
   ]
  },
  {
   "cell_type": "code",
   "execution_count": 6,
   "metadata": {},
   "outputs": [
    {
     "data": {
      "text/plain": [
       "array(['DL', 'WN', 'AS', 'OO', 'UA', 'EV', 'AA', 'MQ', 'US', 'YV', 'FL',\n",
       "       'F9', 'B6', 'VX', '9E', 'HA'], dtype=object)"
      ]
     },
     "execution_count": 6,
     "metadata": {},
     "output_type": "execute_result"
    }
   ],
   "source": [
    "#ver las aerolineas disponibles\n",
    "carriers = delays_by_carrier ['Carrier'].unique()\n",
    "carriers"
   ]
  },
  {
   "cell_type": "code",
   "execution_count": 16,
   "metadata": {},
   "outputs": [
    {
     "name": "stdout",
     "output_type": "stream",
     "text": [
      "delays DL: 6001\n",
      "on time DL: 32481\n"
     ]
    }
   ],
   "source": [
    "#aerolinea DL ver cuantos vuelos puntuales y cuantos con retraso\n",
    "DL_delays = delays_by_carrier [(delays_by_carrier.Carrier == 'DL') & (delays_by_carrier.ArrDel15 == 1)]\n",
    "DL_delays = len(DL_delays)\n",
    "\n",
    "DL_on_time = delays_by_carrier [(delays_by_carrier.Carrier == 'DL') & (delays_by_carrier.ArrDel15 == 0)]\n",
    "DL_on_time = len(DL_on_time)\n",
    "\n",
    "print('delays DL:',DL_delays)\n",
    "print('on time DL:',DL_on_time)"
   ]
  },
  {
   "cell_type": "code",
   "execution_count": 22,
   "metadata": {},
   "outputs": [
    {
     "name": "stdout",
     "output_type": "stream",
     "text": [
      "delays WN: 13684\n",
      "on time WN: 44177\n"
     ]
    }
   ],
   "source": [
    "#aerolinea DL ver cuantos vuelos puntuales y cuantos con retraso\n",
    "WN_delays = delays_by_carrier [(delays_by_carrier.Carrier == 'WN') & (delays_by_carrier.ArrDel15 == 1)]\n",
    "WN_delays = len(WN_delays)\n",
    "\n",
    "WN_on_time = delays_by_carrier [(delays_by_carrier.Carrier == 'WN') & (delays_by_carrier.ArrDel15 == 0)]\n",
    "WN_on_time = len(WN_on_time)\n",
    "\n",
    "print('delays WN:',WN_delays)\n",
    "print('on time WN:',WN_on_time)"
   ]
  },
  {
   "cell_type": "code",
   "execution_count": 23,
   "metadata": {},
   "outputs": [
    {
     "name": "stdout",
     "output_type": "stream",
     "text": [
      "delays AS: 835\n",
      "on time AS: 5929\n"
     ]
    }
   ],
   "source": [
    "#aerolinea DL ver cuantos vuelos puntuales y cuantos con retraso\n",
    "AS_delays = delays_by_carrier [(delays_by_carrier.Carrier == 'AS') & (delays_by_carrier.ArrDel15 == 1)]\n",
    "AS_delays = len(AS_delays)\n",
    "\n",
    "AS_on_time = delays_by_carrier [(delays_by_carrier.Carrier == 'AS') & (delays_by_carrier.ArrDel15 == 0)]\n",
    "AS_on_time = len(AS_on_time)\n",
    "\n",
    "print('delays AS:',AS_delays)\n",
    "print('on time AS:',AS_on_time)"
   ]
  }
 ],
 "metadata": {
  "kernelspec": {
   "display_name": "Python 3",
   "language": "python",
   "name": "python3"
  },
  "language_info": {
   "codemirror_mode": {
    "name": "ipython",
    "version": 3
   },
   "file_extension": ".py",
   "mimetype": "text/x-python",
   "name": "python",
   "nbconvert_exporter": "python",
   "pygments_lexer": "ipython3",
   "version": "3.12.2"
  }
 },
 "nbformat": 4,
 "nbformat_minor": 2
}
