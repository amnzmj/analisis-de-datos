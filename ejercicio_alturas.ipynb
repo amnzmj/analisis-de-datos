{
 "cells": [
  {
   "cell_type": "markdown",
   "metadata": {},
   "source": [
    "## Ejercicio alturas \n",
    "De las 3 hipótesis planteadas en la presentación, generar la información que permita obtener los parámetros estadísticos que nos servirán para rechazar o no las hipótesis nulas planteadas.\n",
    "\n",
    "+10 Para obtener estos puntos será necesario investigar un estadístico de prueba, y presentarlo en clase, tanto la metodología como la aplicación de esta a los datos mencionados anteriormente, y deberán de explicar como analizaron estos datos y si se rechazo o no las hipótesis correspondientes.\n",
    "\n",
    "De 3 variables diferentes de la BD utilizada para el examen del primer parcial, plantear 3 hipótesis, y generar los parámetros estadísticos que sean necesarios para validar las hipótesis nulas, con los estadísticos de prueba que veremos la próxima clase.\n",
    "\n",
    "\n",
    "Definir Hipótesis:\n",
    "- ¿Tienen las estudiantes de 9vo una estatura media diferente de 175 cm?  \n",
    "   H0: $\\mu$ m =! 175\n",
    "- ¿Es la desviación estándar de su estatura igual a o menor que 10 cm?  \n",
    "   H0: $\\sigma$ =< 10\n",
    "- ¿Es diferente la estatura promedio de las mujeres comparada con la de los hombres?  \n",
    "   H0: $\\mu$ h =! $\\mu$ m  \n",
    "Grados de Libertad y Nivel de Significancia  \n",
    "Fórmulas o Ecuaciones  \n",
    "Evaluación  \n"
   ]
  },
  {
   "cell_type": "markdown",
   "metadata": {},
   "source": [
    "### Datos"
   ]
  },
  {
   "cell_type": "code",
   "execution_count": 24,
   "metadata": {},
   "outputs": [
    {
     "data": {
      "text/html": [
       "<div>\n",
       "<style scoped>\n",
       "    .dataframe tbody tr th:only-of-type {\n",
       "        vertical-align: middle;\n",
       "    }\n",
       "\n",
       "    .dataframe tbody tr th {\n",
       "        vertical-align: top;\n",
       "    }\n",
       "\n",
       "    .dataframe thead th {\n",
       "        text-align: right;\n",
       "    }\n",
       "</style>\n",
       "<table border=\"1\" class=\"dataframe\">\n",
       "  <thead>\n",
       "    <tr style=\"text-align: right;\">\n",
       "      <th></th>\n",
       "      <th>nombre</th>\n",
       "      <th>altura</th>\n",
       "      <th>sexo</th>\n",
       "    </tr>\n",
       "  </thead>\n",
       "  <tbody>\n",
       "    <tr>\n",
       "      <th>0</th>\n",
       "      <td>Fer</td>\n",
       "      <td>180</td>\n",
       "      <td>M</td>\n",
       "    </tr>\n",
       "    <tr>\n",
       "      <th>1</th>\n",
       "      <td>Ale</td>\n",
       "      <td>170</td>\n",
       "      <td>M</td>\n",
       "    </tr>\n",
       "    <tr>\n",
       "      <th>2</th>\n",
       "      <td>Alex Muñoz</td>\n",
       "      <td>170</td>\n",
       "      <td>M</td>\n",
       "    </tr>\n",
       "    <tr>\n",
       "      <th>3</th>\n",
       "      <td>Gael</td>\n",
       "      <td>168</td>\n",
       "      <td>M</td>\n",
       "    </tr>\n",
       "    <tr>\n",
       "      <th>4</th>\n",
       "      <td>Erick</td>\n",
       "      <td>165</td>\n",
       "      <td>M</td>\n",
       "    </tr>\n",
       "    <tr>\n",
       "      <th>5</th>\n",
       "      <td>Angie</td>\n",
       "      <td>168</td>\n",
       "      <td>F</td>\n",
       "    </tr>\n",
       "    <tr>\n",
       "      <th>6</th>\n",
       "      <td>Karla</td>\n",
       "      <td>170</td>\n",
       "      <td>F</td>\n",
       "    </tr>\n",
       "    <tr>\n",
       "      <th>7</th>\n",
       "      <td>Angel</td>\n",
       "      <td>175</td>\n",
       "      <td>M</td>\n",
       "    </tr>\n",
       "    <tr>\n",
       "      <th>8</th>\n",
       "      <td>Jose Jacal</td>\n",
       "      <td>175</td>\n",
       "      <td>M</td>\n",
       "    </tr>\n",
       "    <tr>\n",
       "      <th>9</th>\n",
       "      <td>Leo Dorantes</td>\n",
       "      <td>171</td>\n",
       "      <td>M</td>\n",
       "    </tr>\n",
       "    <tr>\n",
       "      <th>10</th>\n",
       "      <td>Lalo</td>\n",
       "      <td>172</td>\n",
       "      <td>M</td>\n",
       "    </tr>\n",
       "    <tr>\n",
       "      <th>11</th>\n",
       "      <td>Antonio</td>\n",
       "      <td>170</td>\n",
       "      <td>M</td>\n",
       "    </tr>\n",
       "    <tr>\n",
       "      <th>12</th>\n",
       "      <td>Luis Hurtado</td>\n",
       "      <td>177</td>\n",
       "      <td>M</td>\n",
       "    </tr>\n",
       "    <tr>\n",
       "      <th>13</th>\n",
       "      <td>Cristian</td>\n",
       "      <td>170</td>\n",
       "      <td>M</td>\n",
       "    </tr>\n",
       "    <tr>\n",
       "      <th>14</th>\n",
       "      <td>Juve</td>\n",
       "      <td>176</td>\n",
       "      <td>M</td>\n",
       "    </tr>\n",
       "  </tbody>\n",
       "</table>\n",
       "</div>"
      ],
      "text/plain": [
       "          nombre  altura sexo\n",
       "0            Fer     180    M\n",
       "1            Ale     170    M\n",
       "2     Alex Muñoz     170    M\n",
       "3           Gael     168    M\n",
       "4          Erick     165    M\n",
       "5          Angie     168    F\n",
       "6          Karla     170    F\n",
       "7          Angel     175    M\n",
       "8     Jose Jacal     175    M\n",
       "9   Leo Dorantes     171    M\n",
       "10          Lalo     172    M\n",
       "11       Antonio     170    M\n",
       "12  Luis Hurtado     177    M\n",
       "13     Cristian      170    M\n",
       "14          Juve     176    M"
      ]
     },
     "execution_count": 24,
     "metadata": {},
     "output_type": "execute_result"
    }
   ],
   "source": [
    "import pandas as pd\n",
    "import matplotlib.pyplot as plt \n",
    "\n",
    "estaturas_grupo ={\n",
    "    'nombre': ['Fer','Ale','Alex Muñoz','Gael','Erick','Angie','Karla','Angel','Jose Jacal','Leo Dorantes','Lalo','Antonio','Luis Hurtado','Cristian ','Juve',],\n",
    "    'altura':[180,170,170,168,165,168,170,175,175,171,172,170,177,170,176 ], \n",
    "    'sexo':['M','M','M','M','M','F','F','M','M','M','M','M','M','M','M',]}\n",
    "\n",
    "indexes = ['1','2','3','4','5','6','7','8','9','10','11','12','13','14','15',]\n",
    "columns = ['nombre','altura','sexo']\n",
    "\n",
    "df_estaturas = pd.DataFrame(estaturas_grupo)\n",
    "df_estaturas"
   ]
  },
  {
   "cell_type": "markdown",
   "metadata": {},
   "source": [
    "### promedio"
   ]
  },
  {
   "cell_type": "code",
   "execution_count": 35,
   "metadata": {},
   "outputs": [
    {
     "data": {
      "text/plain": [
       "172.23076923076923"
      ]
     },
     "execution_count": 35,
     "metadata": {},
     "output_type": "execute_result"
    }
   ],
   "source": [
    "promedio_estaturas = df_estaturas['altura'].mean()\n",
    "promedio_estaturas\n"
   ]
  },
  {
   "cell_type": "code",
   "execution_count": 36,
   "metadata": {},
   "outputs": [
    {
     "data": {
      "text/plain": [
       "169.0"
      ]
     },
     "execution_count": 36,
     "metadata": {},
     "output_type": "execute_result"
    }
   ],
   "source": [
    "df_estatura_mujeres = df_estaturas [df_estaturas['sexo'] == 'F']\n",
    "media_mujeres = df_estatura_mujeres ['altura'].mean()\n",
    "media_mujeres"
   ]
  },
  {
   "cell_type": "code",
   "execution_count": 37,
   "metadata": {},
   "outputs": [
    {
     "data": {
      "text/plain": [
       "172.23076923076923"
      ]
     },
     "execution_count": 37,
     "metadata": {},
     "output_type": "execute_result"
    }
   ],
   "source": [
    "df_estatura_hombres = df_estaturas [df_estaturas['sexo'] == 'M']\n",
    "media_hombres = df_estatura_hombres ['altura'].mean()\n",
    "media_hombres"
   ]
  },
  {
   "cell_type": "markdown",
   "metadata": {},
   "source": [
    "### desviación estandar"
   ]
  },
  {
   "cell_type": "code",
   "execution_count": 39,
   "metadata": {},
   "outputs": [
    {
     "data": {
      "text/plain": [
       "4.003569835605647"
      ]
     },
     "execution_count": 39,
     "metadata": {},
     "output_type": "execute_result"
    }
   ],
   "source": [
    "desv_estandar_estaturas = df_estaturas['altura'].std()\n",
    "desv_estandar_estaturas"
   ]
  },
  {
   "cell_type": "markdown",
   "metadata": {},
   "source": [
    "### conclusiones"
   ]
  },
  {
   "cell_type": "markdown",
   "metadata": {},
   "source": [
    "- ¿Tienen las estudiantes de 9vo una estatura media diferente de 175 cm?  \n",
    "   H0: $\\mu$ m =! 175  \n",
    "   $\\mu$ m = 172.23076923076923 por lo tanto se confirma la hipótesis nula\n",
    "   \n",
    "- ¿Es la desviación estándar de su estatura igual a o menor que 10 cm?  \n",
    "   H0: $\\sigma$ =< 10\n",
    "   $\\sigma$ = 4.003569835605647 por lo tanto se confirma la hipótesis nula\n",
    "\n",
    "- ¿Es diferente la estatura promedio de las mujeres comparada con la de los hombres?  \n",
    "   H0: $\\mu$ h =! $\\mu$ m  \n",
    "   $\\mu$ h = 172.23076923076923 \n",
    "   $\\mu$ m = 169.0\n",
    "   por lo tanto se confirma la hipótesis nula"
   ]
  },
  {
   "cell_type": "markdown",
   "metadata": {},
   "source": [
    "***\n",
    "### ejercicio datos aeropuerto\n",
    "\n",
    "De 3 variables diferentes de la BD utilizada para el examen del primer parcial, plantear 3 hipótesis, y generar los parámetros estadísticos que sean necesarios para validar las hipótesis nulas, con los estadísticos de prueba que veremos la próxima clase.\n",
    "\n",
    "\n"
   ]
  },
  {
   "cell_type": "code",
   "execution_count": null,
   "metadata": {},
   "outputs": [],
   "source": []
  }
 ],
 "metadata": {
  "kernelspec": {
   "display_name": "Python 3",
   "language": "python",
   "name": "python3"
  },
  "language_info": {
   "codemirror_mode": {
    "name": "ipython",
    "version": 3
   },
   "file_extension": ".py",
   "mimetype": "text/x-python",
   "name": "python",
   "nbconvert_exporter": "python",
   "pygments_lexer": "ipython3",
   "version": "3.12.2"
  }
 },
 "nbformat": 4,
 "nbformat_minor": 2
}
